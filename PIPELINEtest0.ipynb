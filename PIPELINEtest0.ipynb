{
  "nbformat": 4,
  "nbformat_minor": 0,
  "metadata": {
    "colab": {
      "name": "PIPELINEtest0.ipynb",
      "provenance": [],
      "mount_file_id": "1kYmbTwZ87TBfEfqNdAl4RgWdz6x0MI69",
      "authorship_tag": "ABX9TyO9hGoJN/OoQ3BcjIs9N2IN",
      "include_colab_link": true
    },
    "kernelspec": {
      "name": "python3",
      "display_name": "Python 3"
    }
  },
  "cells": [
    {
      "cell_type": "markdown",
      "metadata": {
        "id": "view-in-github",
        "colab_type": "text"
      },
      "source": [
        "<a href=\"https://colab.research.google.com/github/roijo/workbench/blob/master/PIPELINEtest0.ipynb\" target=\"_parent\"><img src=\"https://colab.research.google.com/assets/colab-badge.svg\" alt=\"Open In Colab\"/></a>"
      ]
    },
    {
      "cell_type": "code",
      "metadata": {
        "id": "vT3XgnGj4aN3",
        "colab": {
          "base_uri": "https://localhost:8080/"
        },
        "outputId": "401a00a3-b6a2-4fc5-c9b0-20cc0fb65c92"
      },
      "source": [
        "pipeline_id = 'https://drive.google.com/open?id='.split('id=')[-1]\n",
        "downloaded = drive.CreateFile({'id':pipeline_id})\n",
        "downloaded.GetContentFile('fMRIPipeline.png')\n"
      ],
      "execution_count": null,
      "outputs": [
        {
          "output_type": "stream",
          "text": [
            "anscombe.json\t\t      mnist_test.csv\n",
            "california_housing_test.csv   mnist_train_small.csv\n",
            "california_housing_train.csv  README.md\n"
          ],
          "name": "stdout"
        }
      ]
    },
    {
      "cell_type": "code",
      "metadata": {
        "id": "b5G5xeFt4hIr"
      },
      "source": [
        ""
      ],
      "execution_count": null,
      "outputs": []
    },
    {
      "cell_type": "code",
      "metadata": {
        "id": "Xkn7c5jc2dtF",
        "colab": {
          "base_uri": "https://localhost:8080/"
        },
        "outputId": "222356fb-1891-41bf-d63c-5df34e2a5e32"
      },
      "source": [
        "from IPython.display import Image\n",
        "import numpy as np\n",
        "\n",
        "### Install the PyDrive wrapper & import libraries.\n",
        "# This only needs to be done once per notebook.\n",
        "!pip install -U -q PyDrive\n",
        "\n",
        "### Just once, necessary packages install on Console WS\n",
        "!pip install nipype\n",
        "!pip install nilearn\n",
        "\n",
        "### Install Authentication interface\n",
        "\n",
        " #from pydrive.auth import GoogleAuth\n",
        " #from pydrive.drive import GoogleDrive\n",
        " #from google.colab import auth\n",
        " #from oauth2client.client import GoogleCredentials\n",
        "\n",
        "# Authenticate and create the PyDrive client\n",
        "# This only needs to be done once per notebook\n",
        " #auth.authenticate_user()\n",
        " #gauth = GoogleAuth()\n",
        " #gauth.credentials = GoogleCredentials.get_application_default()\n",
        " #drive = GoogleDrive(gauth)\n",
        "\n"
      ],
      "execution_count": 4,
      "outputs": [
        {
          "output_type": "stream",
          "text": [
            "Collecting nipype\n",
            "\u001b[?25l  Downloading https://files.pythonhosted.org/packages/05/ae/bca6280e8bfe466eafe3b1095c7bfa6d0157360e12a608cce7cde4b1b31a/nipype-1.5.1-py3-none-any.whl (3.1MB)\n",
            "\u001b[K     |████████████████████████████████| 3.1MB 5.4MB/s \n",
            "\u001b[?25hRequirement already satisfied: filelock>=3.0.0 in /usr/local/lib/python3.6/dist-packages (from nipype) (3.0.12)\n",
            "Requirement already satisfied: nibabel>=2.1.0 in /usr/local/lib/python3.6/dist-packages (from nipype) (3.0.2)\n",
            "Collecting etelemetry>=0.2.0\n",
            "  Downloading https://files.pythonhosted.org/packages/13/f9/e8e8cd04bdc44dfba28a3b2cc4d0b1efe8cbf3afc1bf12b11f1c9d697f1e/etelemetry-0.2.2-py3-none-any.whl\n",
            "Requirement already satisfied: numpy>=1.13; python_version < \"3.7\" in /usr/local/lib/python3.6/dist-packages (from nipype) (1.18.5)\n",
            "Requirement already satisfied: click>=6.6.0 in /usr/local/lib/python3.6/dist-packages (from nipype) (7.1.2)\n",
            "Requirement already satisfied: networkx>=1.9 in /usr/local/lib/python3.6/dist-packages (from nipype) (2.5)\n",
            "Requirement already satisfied: packaging in /usr/local/lib/python3.6/dist-packages (from nipype) (20.4)\n",
            "Collecting traits!=5.0,>=4.6\n",
            "\u001b[?25l  Downloading https://files.pythonhosted.org/packages/94/d4/be3765c4c1ada555a91daa5cc9df3b6c2557ec4b55ba181c23ef5682e1f8/traits-6.1.1.tar.gz (567kB)\n",
            "\u001b[K     |████████████████████████████████| 573kB 25.1MB/s \n",
            "\u001b[?25hRequirement already satisfied: pydotplus in /usr/local/lib/python3.6/dist-packages (from nipype) (2.0.2)\n",
            "Collecting prov>=1.5.2\n",
            "\u001b[?25l  Downloading https://files.pythonhosted.org/packages/cf/8d/9a5110845c6b117d203e3ca9eec5ee79bed29cef508c8415fbc85e900150/prov-2.0.0-py3-none-any.whl (421kB)\n",
            "\u001b[K     |████████████████████████████████| 430kB 20.9MB/s \n",
            "\u001b[?25hRequirement already satisfied: pydot>=1.2.3 in /usr/local/lib/python3.6/dist-packages (from nipype) (1.3.0)\n",
            "Requirement already satisfied: scipy>=0.14 in /usr/local/lib/python3.6/dist-packages (from nipype) (1.4.1)\n",
            "Collecting simplejson>=3.8.0\n",
            "\u001b[?25l  Downloading https://files.pythonhosted.org/packages/73/96/1e6b19045375890068d7342cbe280dd64ae73fd90b9735b5efb8d1e044a1/simplejson-3.17.2-cp36-cp36m-manylinux2010_x86_64.whl (127kB)\n",
            "\u001b[K     |████████████████████████████████| 133kB 31.6MB/s \n",
            "\u001b[?25hCollecting rdflib>=5.0.0\n",
            "\u001b[?25l  Downloading https://files.pythonhosted.org/packages/d0/6b/6454aa1db753c0f8bc265a5bd5c10b5721a4bb24160fb4faf758cf6be8a1/rdflib-5.0.0-py3-none-any.whl (231kB)\n",
            "\u001b[K     |████████████████████████████████| 235kB 35.1MB/s \n",
            "\u001b[?25hRequirement already satisfied: python-dateutil>=2.2 in /usr/local/lib/python3.6/dist-packages (from nipype) (2.8.1)\n",
            "Requirement already satisfied: requests in /usr/local/lib/python3.6/dist-packages (from etelemetry>=0.2.0->nipype) (2.23.0)\n",
            "Collecting ci-info>=0.2\n",
            "  Downloading https://files.pythonhosted.org/packages/cf/01/664a10490000d7154fa71358af87681696b8116a12d869a267063c470fbc/ci_info-0.2.0-py3-none-any.whl\n",
            "Requirement already satisfied: decorator>=4.3.0 in /usr/local/lib/python3.6/dist-packages (from networkx>=1.9->nipype) (4.4.2)\n",
            "Requirement already satisfied: pyparsing>=2.0.2 in /usr/local/lib/python3.6/dist-packages (from packaging->nipype) (2.4.7)\n",
            "Requirement already satisfied: six in /usr/local/lib/python3.6/dist-packages (from packaging->nipype) (1.15.0)\n",
            "Requirement already satisfied: lxml>=3.3.5 in /usr/local/lib/python3.6/dist-packages (from prov>=1.5.2->nipype) (4.2.6)\n",
            "Collecting isodate\n",
            "\u001b[?25l  Downloading https://files.pythonhosted.org/packages/9b/9f/b36f7774ff5ea8e428fdcfc4bb332c39ee5b9362ddd3d40d9516a55221b2/isodate-0.6.0-py2.py3-none-any.whl (45kB)\n",
            "\u001b[K     |████████████████████████████████| 51kB 6.7MB/s \n",
            "\u001b[?25hRequirement already satisfied: chardet<4,>=3.0.2 in /usr/local/lib/python3.6/dist-packages (from requests->etelemetry>=0.2.0->nipype) (3.0.4)\n",
            "Requirement already satisfied: certifi>=2017.4.17 in /usr/local/lib/python3.6/dist-packages (from requests->etelemetry>=0.2.0->nipype) (2020.11.8)\n",
            "Requirement already satisfied: urllib3!=1.25.0,!=1.25.1,<1.26,>=1.21.1 in /usr/local/lib/python3.6/dist-packages (from requests->etelemetry>=0.2.0->nipype) (1.24.3)\n",
            "Requirement already satisfied: idna<3,>=2.5 in /usr/local/lib/python3.6/dist-packages (from requests->etelemetry>=0.2.0->nipype) (2.10)\n",
            "Building wheels for collected packages: traits\n",
            "  Building wheel for traits (setup.py) ... \u001b[?25l\u001b[?25hdone\n",
            "  Created wheel for traits: filename=traits-6.1.1-cp36-cp36m-linux_x86_64.whl size=529557 sha256=aaf9d5bdea8a12bba92ea2fa589af74968451e8f172b3861c9ee0cc52cbfad70\n",
            "  Stored in directory: /root/.cache/pip/wheels/24/eb/e5/6a06dad037ce5c932e8034be555c681122a7c56b7497306ae7\n",
            "Successfully built traits\n",
            "Installing collected packages: ci-info, etelemetry, traits, isodate, rdflib, prov, simplejson, nipype\n",
            "Successfully installed ci-info-0.2.0 etelemetry-0.2.2 isodate-0.6.0 nipype-1.5.1 prov-2.0.0 rdflib-5.0.0 simplejson-3.17.2 traits-6.1.1\n",
            "Collecting nilearn\n",
            "\u001b[?25l  Downloading https://files.pythonhosted.org/packages/e8/e7/59fcd3501f47b7a661a69e15ef417463fbc88dd334d9af2d9d6685710038/nilearn-0.7.0-py3-none-any.whl (3.0MB)\n",
            "\u001b[K     |████████████████████████████████| 3.0MB 5.6MB/s \n",
            "\u001b[?25hRequirement already satisfied: joblib>=0.12 in /usr/local/lib/python3.6/dist-packages (from nilearn) (0.17.0)\n",
            "Requirement already satisfied: scikit-learn>=0.19 in /usr/local/lib/python3.6/dist-packages (from nilearn) (0.22.2.post1)\n",
            "Requirement already satisfied: scipy>=0.19 in /usr/local/lib/python3.6/dist-packages (from nilearn) (1.4.1)\n",
            "Requirement already satisfied: numpy>=1.11 in /usr/local/lib/python3.6/dist-packages (from nilearn) (1.18.5)\n",
            "Requirement already satisfied: nibabel>=2.0.2 in /usr/local/lib/python3.6/dist-packages (from nilearn) (3.0.2)\n",
            "Requirement already satisfied: requests>=2 in /usr/local/lib/python3.6/dist-packages (from nilearn) (2.23.0)\n",
            "Requirement already satisfied: pandas>=0.18.0 in /usr/local/lib/python3.6/dist-packages (from nilearn) (1.1.4)\n",
            "Requirement already satisfied: urllib3!=1.25.0,!=1.25.1,<1.26,>=1.21.1 in /usr/local/lib/python3.6/dist-packages (from requests>=2->nilearn) (1.24.3)\n",
            "Requirement already satisfied: certifi>=2017.4.17 in /usr/local/lib/python3.6/dist-packages (from requests>=2->nilearn) (2020.11.8)\n",
            "Requirement already satisfied: chardet<4,>=3.0.2 in /usr/local/lib/python3.6/dist-packages (from requests>=2->nilearn) (3.0.4)\n",
            "Requirement already satisfied: idna<3,>=2.5 in /usr/local/lib/python3.6/dist-packages (from requests>=2->nilearn) (2.10)\n",
            "Requirement already satisfied: pytz>=2017.2 in /usr/local/lib/python3.6/dist-packages (from pandas>=0.18.0->nilearn) (2018.9)\n",
            "Requirement already satisfied: python-dateutil>=2.7.3 in /usr/local/lib/python3.6/dist-packages (from pandas>=0.18.0->nilearn) (2.8.1)\n",
            "Requirement already satisfied: six>=1.5 in /usr/local/lib/python3.6/dist-packages (from python-dateutil>=2.7.3->pandas>=0.18.0->nilearn) (1.15.0)\n",
            "Installing collected packages: nilearn\n",
            "Successfully installed nilearn-0.7.0\n"
          ],
          "name": "stdout"
        }
      ]
    },
    {
      "cell_type": "code",
      "metadata": {
        "id": "5r-B84vh4cNp",
        "colab": {
          "base_uri": "https://localhost:8080/"
        },
        "outputId": "d286a028-5b1e-465c-b6a8-5be73fd510b7"
      },
      "source": [
        "!pip install --quiet conda"
      ],
      "execution_count": 5,
      "outputs": [
        {
          "output_type": "stream",
          "text": [
            "\u001b[K     |████████████████████████████████| 307kB 6.2MB/s \n",
            "\u001b[K     |████████████████████████████████| 71kB 8.2MB/s \n",
            "\u001b[K     |████████████████████████████████| 112kB 32.5MB/s \n",
            "\u001b[K     |████████████████████████████████| 552kB 15.7MB/s \n",
            "\u001b[?25h  Building wheel for conda (setup.py) ... \u001b[?25l\u001b[?25hdone\n",
            "  Building wheel for pycosat (setup.py) ... \u001b[?25l\u001b[?25hdone\n"
          ],
          "name": "stdout"
        }
      ]
    },
    {
      "cell_type": "code",
      "metadata": {
        "id": "U8ZvYI2MrOE6"
      },
      "source": [
        ""
      ],
      "execution_count": null,
      "outputs": []
    },
    {
      "cell_type": "markdown",
      "metadata": {
        "id": "_JCpwtZrrYQ5"
      },
      "source": [
        "# New Section"
      ]
    },
    {
      "cell_type": "code",
      "metadata": {
        "id": "IXaQL4ybrFvD"
      },
      "source": [
        ""
      ],
      "execution_count": null,
      "outputs": []
    },
    {
      "cell_type": "code",
      "metadata": {
        "id": "E8b1xU-1rDXY"
      },
      "source": [
        ""
      ],
      "execution_count": null,
      "outputs": []
    }
  ]
}